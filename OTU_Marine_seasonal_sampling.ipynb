{
 "metadata": {
  "name": ""
 },
 "nbformat": 3,
 "nbformat_minor": 0,
 "worksheets": [
  {
   "cells": [
    {
     "cell_type": "code",
     "collapsed": false,
     "input": [
      "import pandas"
     ],
     "language": "python",
     "metadata": {},
     "outputs": [
      {
       "output_type": "stream",
       "stream": "stderr",
       "text": [
        "/home/binni/Programming/anaconda/lib/python2.7/site-packages/pytz/__init__.py:35: UserWarning: Module argparse was already imported from /home/binni/Programming/anaconda/lib/python2.7/argparse.pyc, but /home/binni/Programming/anaconda/lib/python2.7/site-packages is being added to sys.path\n",
        "  from pkg_resources import resource_stream\n"
       ]
      }
     ],
     "prompt_number": 1
    },
    {
     "cell_type": "code",
     "collapsed": false,
     "input": [
      "def otu_freq_in_samples(df):\n",
      "    \"\"\"\n",
      "    Transform the count DataFrame to a frequency of OTU in sample DataFrame\n",
      "    Input:  NxM DataFrame with N OTUs as rows, M samples as columns and OTU count in that sample as value\n",
      "    Output: NxM DataFrame as the input except the value is the frequency of the OTU in that sample.\n",
      "    \"\"\"\n",
      "    # df.sum() sums over rows and gives us a 1xM array with the total count of OTUs in the samples.\n",
      "    # df / df.sum() divides each column of df with the sum over that column, giving us frequency of OTUs in sample\n",
      "    return df / df.sum()"
     ],
     "language": "python",
     "metadata": {},
     "outputs": [],
     "prompt_number": 2
    },
    {
     "cell_type": "code",
     "collapsed": false,
     "input": [
      "def column_filter(col):\n",
      "    \"\"\"\n",
      "    Filter out the columns that are not samples:\n",
      "    Input:  Column label\n",
      "    Output: False if the label in known non sample columns, else True\n",
      "    \"\"\"\n",
      "    return False if col in [\"Cluster level\", \"lca\", \"hierarchy\", \"best_silva_hits\", \"Type sequence\"] else True\n",
      "print column_filter(\"Cluster level\") == False\n",
      "print column_filter(\"2013_01_28\") == True"
     ],
     "language": "python",
     "metadata": {},
     "outputs": [
      {
       "output_type": "stream",
       "stream": "stdout",
       "text": [
        "True\n",
        "True\n"
       ]
      }
     ],
     "prompt_number": 3
    },
    {
     "cell_type": "code",
     "collapsed": false,
     "input": [
      "otutaxtable = pandas.read_csv(\"/home/binni/Programming/MasterProject/OTU_coverage/_khamn_2011_all.perseus.uc.99.otutaxtable.txt\",\n",
      "                              sep=\"\\t\",\n",
      "                              index_col=0)"
     ],
     "language": "python",
     "metadata": {},
     "outputs": [],
     "prompt_number": 4
    },
    {
     "cell_type": "code",
     "collapsed": false,
     "input": [
      "# Select only columns that are sample columns.\n",
      "otu_samples_count = otutaxtable.select(column_filter,axis=1)"
     ],
     "language": "python",
     "metadata": {},
     "outputs": [],
     "prompt_number": 5
    },
    {
     "cell_type": "code",
     "collapsed": false,
     "input": [
      "# Calculate the frequency of OTUs over samples (sum of sample == 1)\n",
      "otu_samples_freq = otu_freq_in_samples(otu_samples_count)"
     ],
     "language": "python",
     "metadata": {},
     "outputs": [],
     "prompt_number": 6
    },
    {
     "cell_type": "code",
     "collapsed": false,
     "input": [
      "# Sum over samples to get the OTUs with highest average frequencies. \n",
      "# Order by highest value and select the first 41 OTUs.\n",
      "top_41 = otu_samples_freq.sum(axis=1).order(ascending=False)[:41]"
     ],
     "language": "python",
     "metadata": {},
     "outputs": [],
     "prompt_number": 7
    },
    {
     "cell_type": "code",
     "collapsed": false,
     "input": [
      "# Select the 41 OTUs from the original count array\n",
      "top_41_otu = otu_samples_count.loc[list(top_41.index)]"
     ],
     "language": "python",
     "metadata": {},
     "outputs": [],
     "prompt_number": 8
    },
    {
     "cell_type": "code",
     "collapsed": false,
     "input": [
      "top_41_freq = otu_freq_in_samples(top_41_otu)"
     ],
     "language": "python",
     "metadata": {},
     "outputs": [],
     "prompt_number": 9
    },
    {
     "cell_type": "code",
     "collapsed": false,
     "input": [
      "for c in top_41_freq.columns:\n",
      "    top_41_freq[c].to_csv(\"/home/binni/Programming/MasterProject/OTU_coverage/%s.txt\" % (c),index=False)"
     ],
     "language": "python",
     "metadata": {},
     "outputs": [],
     "prompt_number": 10
    },
    {
     "cell_type": "code",
     "collapsed": false,
     "input": [],
     "language": "python",
     "metadata": {},
     "outputs": [],
     "prompt_number": 10
    },
    {
     "cell_type": "code",
     "collapsed": false,
     "input": [],
     "language": "python",
     "metadata": {},
     "outputs": [],
     "prompt_number": 10
    },
    {
     "cell_type": "code",
     "collapsed": false,
     "input": [],
     "language": "python",
     "metadata": {},
     "outputs": [],
     "prompt_number": 10
    },
    {
     "cell_type": "code",
     "collapsed": false,
     "input": [],
     "language": "python",
     "metadata": {},
     "outputs": [],
     "prompt_number": 10
    }
   ],
   "metadata": {}
  }
 ]
}