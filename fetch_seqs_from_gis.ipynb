{
 "metadata": {
  "name": ""
 },
 "nbformat": 3,
 "nbformat_minor": 0,
 "worksheets": [
  {
   "cells": [
    {
     "cell_type": "code",
     "collapsed": false,
     "input": [
      "from Bio import Entrez\n",
      "from Bio import SeqIO\n",
      "from BioSQL import BioSeqDatabase\n",
      "import psycopg2 # NEED v. 2.5 to use the \"with\" context manager\n",
      "import logging"
     ],
     "language": "python",
     "metadata": {},
     "outputs": [],
     "prompt_number": 6
    },
    {
     "cell_type": "code",
     "collapsed": false,
     "input": [
      "# CONSTANTS\n",
      "LOG_FILE = \"/tmp/fetch_seqs_from_gis\"\n",
      "SAVE_FILE = \"/tmp/\"\n",
      "EMAIL = \"binni@binnisb.com\"\n",
      "TOOL = \"sll_biosql\"\n",
      "DB_NAME = \"sll_biosql\"\n",
      "\n",
      "# BASE LOGGING CONFIG\n",
      "logging.basicConfig(\n",
      "  filename=LOG_FILE,\n",
      "  level=logging.INFO,\n",
      "  filemode='a', # append to log file\n",
      "  format='%(asctime)s:%(levelname)s:%(name)s:%(message)s'\n",
      ")"
     ],
     "language": "python",
     "metadata": {},
     "outputs": [],
     "prompt_number": 7
    },
    {
     "cell_type": "code",
     "collapsed": false,
     "input": [
      "# GET bioentries gis that have already been imported.\n",
      "# GET gi_queues that have not been imported\n",
      "# SELECT thouse gis that are not fetched and not in bioentry\n",
      "with psycopg2.connect(\"dbname='biosqldev' user='binni' host='localhost' password=''\") as conn:\n",
      "  with conn.cursor() as cur:\n",
      "    cur.execute(\"\"\"SELECT biodatabase_id FROM biodatabase WHERE name = %s\"\"\",(DB_NAME,))\n",
      "    biodb_id = cur.fetchone()\n",
      "    cur.execute(\"\"\"SELECT identifier FROM bioentry WHERE biodatabase_id = %s\"\"\", biodb_id)\n",
      "    bioentry_ids = set(map(lambda x: x[0], cur.fetchall()))\n",
      "    logging.info(\"found {0} gis in bioentry\".format(len(bioentry_ids)))\n",
      "    cur.execute(\"\"\"SELECT gi FROM gi_queues WHERE fetched IS false\"\"\")\n",
      "    gi_queues_ids = set(map(lambda x: x[0], cur.fetchall()))\n",
      "    logging.info(\"found {0} gis in qi_queues\".format(len(gi_queues_ids)))\n",
      "    fetch_gis = gi_queues_ids - bioentry_ids\n",
      "    logging.info(\"will fetch {0} gis from ncbi ({1})\".format(len(fetch_gis),\",\".join(fetch_gis)))\n"
     ],
     "language": "python",
     "metadata": {},
     "outputs": [],
     "prompt_number": 8
    },
    {
     "cell_type": "code",
     "collapsed": false,
     "input": [
      "# SELECT the biodatabase to use\n",
      "# GET proteins from NCBI\n",
      "# IMPORT proteins to bioentries\n",
      "# LOG which gis imported and which failed\n",
      "try:\n",
      "  server = BioSeqDatabase.open_database(driver=\"psycopg2\", user=\"binni\", \n",
      "                                        passwd=\"\", host=\"localhost\", \n",
      "                                        db=\"biosqldev\")\n",
      "  if DB_NAME in server:\n",
      "    db = server[DB_NAME]\n",
      "  else:\n",
      "    db = server.new_database(DB_NAME, description=\"sll biosql test\")\n",
      "    server.commit()\n",
      "        \n",
      "  Entrez.email = EMAIL\n",
      "  Entrez.tool = TOOL\n",
      "    \n",
      "  fh = Entrez.efetch(db=\"protein\", rettype=\"gp\", retmode=\"text\",id=list(fetch_gis))\n",
      "  seqs = list(SeqIO.parse(fh, \"gb\"))\n",
      "  map(lambda seq: SeqIO.write(seq,SAVE_FILE+seq.annotations[\"gi\"]+\".gb\",\"genbank\"),seqs)\n",
      "  logging.info(\"Fetched {0} sequences from NCBI.\".format(len(seqs)))\n",
      "  count = db.load(seqs)\n",
      "  logging.info(\"Inserted {0} sequences into biosql\".format(count))\n",
      "    \n",
      "  if count != len(fetch_gis):\n",
      "    logging.warn(\"Not equally many gis to fetch as were inserted\")\n",
      "  not_fetched_gis = set()\n",
      "  for i in list(fetch_gis):\n",
      "    try:\n",
      "      entry = db.lookup(gi=i)\n",
      "      logging.info(\"Gi: {0} inserted in database\".format(i))\n",
      "    except IndexError as e:\n",
      "      logging.warn(\"Gi: {0} not inserted in database\".format(i))\n",
      "      not_fetched_gis.add(i)\n",
      "  server.commit()\n",
      "except Exception as e:\n",
      "  print \"Error: {0}\".format(e)\n",
      "finally:\n",
      "  fh.close()\n",
      "  server.close()"
     ],
     "language": "python",
     "metadata": {},
     "outputs": [],
     "prompt_number": 11
    },
    {
     "cell_type": "code",
     "collapsed": false,
     "input": [
      "# UPDATE gi_queue entries that have been fetched\n",
      "with psycopg2.connect(\"dbname='biosqldev' user='binni' host='localhost' password=''\") as conn:\n",
      "  with conn.cursor() as cur:\n",
      "    cur.execute(\"\"\"UPDATE gi_queues SET fetched=true,updated_at=now() WHERE gi IN ('{0}')\"\"\"\n",
      "                .format(\"','\".join(fetch_gis - not_fetched_gis)))\n",
      "    logging.info(\"Updated status of {0} gi_queues rows out of {1} gis that were added to bioentry\".format(cur.rowcount,count))"
     ],
     "language": "python",
     "metadata": {},
     "outputs": [],
     "prompt_number": 5
    },
    {
     "cell_type": "code",
     "collapsed": false,
     "input": [],
     "language": "python",
     "metadata": {},
     "outputs": []
    }
   ],
   "metadata": {}
  }
 ]
}