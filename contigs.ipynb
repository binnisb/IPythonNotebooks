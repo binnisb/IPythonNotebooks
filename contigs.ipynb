{
 "metadata": {
  "name": "contigs"
 },
 "nbformat": 3,
 "nbformat_minor": 0,
 "worksheets": [
  {
   "cells": [
    {
     "cell_type": "code",
     "collapsed": false,
     "input": [
      "from Bio import SeqIO\n",
      "short_seqs = list(SeqIO.parse(\"../../MasterProject/CONCOCT/tests/test_data/composition_some_shortened.fa\",\"fasta\"))\n",
      "long_seqs = list(SeqIO.parse(\"../../MasterProject/CONCOCT/tests/test_data/composition.fa\",\"fasta\"))\n",
      "len(short_seqs)\n",
      "len(long_seqs)\n",
      "ss = np.array(map(lambda x: len(x),short_seqs))\n",
      "ls = np.array(map(lambda x: len(x),long_seqs))\n",
      "\n",
      "tlen = 1004\n",
      "diff = ss-ls\n",
      "ls[diff!=0]\n",
      "ss[diff!=0]\n"
     ],
     "language": "python",
     "metadata": {},
     "outputs": [
      {
       "output_type": "pyout",
       "prompt_number": 2,
       "text": [
        "array([692, 480, 999])"
       ]
      }
     ],
     "prompt_number": 2
    },
    {
     "cell_type": "code",
     "collapsed": false,
     "input": [
      "len(ls[ls>tlen])"
     ],
     "language": "python",
     "metadata": {},
     "outputs": [
      {
       "output_type": "pyout",
       "prompt_number": 4,
       "text": [
        "349"
       ]
      }
     ],
     "prompt_number": 4
    },
    {
     "cell_type": "code",
     "collapsed": false,
     "input": [],
     "language": "python",
     "metadata": {},
     "outputs": []
    }
   ],
   "metadata": {}
  }
 ]
}